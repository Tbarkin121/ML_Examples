{
  "nbformat": 4,
  "nbformat_minor": 0,
  "metadata": {
    "colab": {
      "name": "TransferLearning.ipynb",
      "provenance": [],
      "collapsed_sections": [],
      "authorship_tag": "ABX9TyOng5wECIi/dTy7Tzfituco",
      "include_colab_link": true
    },
    "kernelspec": {
      "name": "python3",
      "display_name": "Python 3"
    },
    "language_info": {
      "name": "python"
    }
  },
  "cells": [
    {
      "cell_type": "markdown",
      "metadata": {
        "id": "view-in-github",
        "colab_type": "text"
      },
      "source": [
        "<a href=\"https://colab.research.google.com/github/Tbarkin121/ML_Examples/blob/main/TransferLearning.ipynb\" target=\"_parent\"><img src=\"https://colab.research.google.com/assets/colab-badge.svg\" alt=\"Open In Colab\"/></a>"
      ]
    },
    {
      "cell_type": "markdown",
      "metadata": {
        "id": "Rxj7RimzxIH0"
      },
      "source": [
        "Make sure to enable the GPU environment or this will take forever!"
      ]
    },
    {
      "cell_type": "code",
      "metadata": {
        "id": "jEZW3Tc9OUAD"
      },
      "source": [
        "import tensorflow as tf\n",
        "import keras as K\n",
        "import matplotlib.pyplot as plt"
      ],
      "execution_count": null,
      "outputs": []
    },
    {
      "cell_type": "code",
      "metadata": {
        "id": "zPAT2P7yOpm5"
      },
      "source": [
        "class TransferLearningExample:\n",
        "  def __init__(self):\n",
        "    print('Init Transfer Learning Example')\n",
        "    self.to_res = (224, 224)\n",
        "\n",
        "  def preprocess_data(self, X, Y):\n",
        "    \"\"\"\n",
        "    :param X: X is a numpy.ndarray of shape (m, 32, 32, 3) containing the\n",
        "    data, where m is the number of data points\n",
        "    :param Y: Y is a numpy.ndarray of shape (m,) containing the lables for X\n",
        "    :return: X_p, Y_p\n",
        "      X_p is a numpy.ndarray containing the preprocessed X\n",
        "      Y_p is a numpy.ndarray containing the preprocessed Y \n",
        "    \"\"\"\n",
        "    X_p = K.applications.resnet50.preprocess_input(X)\n",
        "    Y_p = K.utils.to_categorical(Y, 10)\n",
        "    return X_p, Y_p\n",
        "\n",
        "  def get_data(self):\n",
        "    (x_train, y_train), (x_test, y_test) = K.datasets.cifar10.load_data()\n",
        "    self.x_train, self.y_train = self.preprocess_data(x_train, y_train)\n",
        "    self.x_test, self.y_test = self.preprocess_data(x_test, y_test)\n",
        "    print('x_train shape, y_train shape')\n",
        "    print((self.x_train.shape, self.y_train.shape))\n",
        "\n",
        "  def create_model(self):\n",
        "    # input_t = K.Input(shape=(32, 32, 3))\n",
        "    # res_model = K.applications.ResNet50(include_top=False,\n",
        "    #                                     weights=\"imagenet\",\n",
        "    #                                     input_tensor=input_t)\n",
        "    res_model = K.applications.ResNet50(include_top=False,\n",
        "                                        weights=\"imagenet\")\n",
        "\n",
        "    print('Num Layers in model = {}'.format(len(res_model.layers)))\n",
        "    #It seems arbetray what layers we freeze and don't freeze so far...\n",
        "    for layer in res_model.layers[:143]:\n",
        "      layer.trainable = False\n",
        "\n",
        "    temp = self.to_res\n",
        "    self.model = K.models.Sequential()\n",
        "    self.model.add(K.layers.Lambda(lambda image: tf.image.resize(image, temp)))\n",
        "    self.model.add(res_model)\n",
        "    self.model.add(K.layers.Flatten())\n",
        "    self.model.add(K.layers.BatchNormalization())\n",
        "    self.model.add(K.layers.Dense(256, activation='relu'))\n",
        "    self.model.add(K.layers.Dropout(0.5))\n",
        "    self.model.add(K.layers.BatchNormalization())\n",
        "    self.model.add(K.layers.Dense(128, activation='relu'))\n",
        "    self.model.add(K.layers.Dropout(0.5))\n",
        "    self.model.add(K.layers.BatchNormalization())\n",
        "    self.model.add(K.layers.Dense(64, activation='relu'))\n",
        "    self.model.add(K.layers.Dropout(0.5))\n",
        "    self.model.add(K.layers.BatchNormalization())\n",
        "    self.model.add(K.layers.Dense(10, activation='softmax'))\n",
        "\n",
        "  def run_training(self, num_epochs):\n",
        "    check_point = K.callbacks.ModelCheckpoint(filepath=\"cifar10.h5\",\n",
        "                                              monitor=\"val_acc\",\n",
        "                                              mode=\"max\",\n",
        "                                              save_best_only=True,\n",
        "                                              )\n",
        "    self.model.compile(loss='categorical_crossentropy',\n",
        "                  optimizer=K.optimizers.RMSprop(lr=2e-5),\n",
        "                  metrics=['accuracy'])\n",
        "    \n",
        "    tmp_x_train=self.x_train\n",
        "    tmp_y_train=self.y_train\n",
        "    tmp_x_test=self.x_test\n",
        "    tmp_y_test=self.y_test\n",
        "    self.history = self.model.fit(tmp_x_train,\n",
        "                        tmp_y_train,\n",
        "                        batch_size=32,\n",
        "                        epochs=num_epochs,\n",
        "                        verbose=1,\n",
        "                        validation_data=(tmp_x_test, tmp_y_test),\n",
        "                        callbacks=[check_point])\n",
        "    self.model.summary()\n",
        "    self.model.save(\"cifar10.h5\")\n",
        "\n",
        "  def plot_results(self):\n",
        "    acc = self.history.history['accuracy']\n",
        "    val_acc = self.history.history['val_accuracy']\n",
        "    loss = self.history.history['loss']\n",
        "    val_loss = self.history.history['val_loss']\n",
        "\n",
        "    epochs = range(len(acc))\n",
        "\n",
        "    plt.plot(epochs, acc, 'b', label='Training acc')\n",
        "    plt.plot(epochs, val_acc, 'bo', label='Validation acc')\n",
        "    plt.title('Training and validation accuracy')\n",
        "    plt.legend()\n",
        "\n",
        "    plt.figure()\n",
        "\n",
        "    plt.plot(epochs, loss, 'r', label='Training loss')\n",
        "    plt.plot(epochs, val_loss, 'ro', label='Validation loss')\n",
        "    plt.title('Training and validation loss')\n",
        "    plt.legend()\n",
        "\n",
        "    plt.show()"
      ],
      "execution_count": null,
      "outputs": []
    },
    {
      "cell_type": "code",
      "metadata": {
        "colab": {
          "base_uri": "https://localhost:8080/"
        },
        "id": "Z9BecgMnSEVo",
        "outputId": "a4bca913-ed2a-4cd0-935b-d8205d9bb4c5"
      },
      "source": [
        "ex = TransferLearningExample()\n",
        "ex.get_data()\n",
        "ex.create_model()\n",
        "\n",
        "# for i, layer in enumerate(ex.model.layers):\n",
        "#       print(i, layer.name, \"-\",layer.trainable)\n",
        "\n",
        "ex.run_training(1)\n"
      ],
      "execution_count": null,
      "outputs": [
        {
          "output_type": "stream",
          "text": [
            "Init Transfer Learning Example\n",
            "x_train shape, y_train shape\n",
            "((50000, 32, 32, 3), (50000, 10))\n",
            "Num Layers in model = 175\n",
            "1563/1563 [==============================] - 262s 162ms/step - loss: 2.1940 - accuracy: 0.2814 - val_loss: 0.7049 - val_accuracy: 0.8626\n",
            "WARNING:tensorflow:Can save best model only with val_acc available, skipping.\n",
            "Model: \"sequential\"\n",
            "_________________________________________________________________\n",
            "Layer (type)                 Output Shape              Param #   \n",
            "=================================================================\n",
            "lambda (Lambda)              (None, 224, 224, 3)       0         \n",
            "_________________________________________________________________\n",
            "resnet50 (Functional)        (None, None, None, 2048)  23587712  \n",
            "_________________________________________________________________\n",
            "flatten (Flatten)            (None, 100352)            0         \n",
            "_________________________________________________________________\n",
            "batch_normalization (BatchNo (None, 100352)            401408    \n",
            "_________________________________________________________________\n",
            "dense (Dense)                (None, 256)               25690368  \n",
            "_________________________________________________________________\n",
            "dropout (Dropout)            (None, 256)               0         \n",
            "_________________________________________________________________\n",
            "batch_normalization_1 (Batch (None, 256)               1024      \n",
            "_________________________________________________________________\n",
            "dense_1 (Dense)              (None, 128)               32896     \n",
            "_________________________________________________________________\n",
            "dropout_1 (Dropout)          (None, 128)               0         \n",
            "_________________________________________________________________\n",
            "batch_normalization_2 (Batch (None, 128)               512       \n",
            "_________________________________________________________________\n",
            "dense_2 (Dense)              (None, 64)                8256      \n",
            "_________________________________________________________________\n",
            "dropout_2 (Dropout)          (None, 64)                0         \n",
            "_________________________________________________________________\n",
            "batch_normalization_3 (Batch (None, 64)                256       \n",
            "_________________________________________________________________\n",
            "dense_3 (Dense)              (None, 10)                650       \n",
            "=================================================================\n",
            "Total params: 49,723,082\n",
            "Trainable params: 40,909,770\n",
            "Non-trainable params: 8,813,312\n",
            "_________________________________________________________________\n"
          ],
          "name": "stdout"
        }
      ]
    },
    {
      "cell_type": "code",
      "metadata": {
        "colab": {
          "base_uri": "https://localhost:8080/",
          "height": 545
        },
        "id": "q4XRuptLCfeM",
        "outputId": "3886d1a4-5792-481a-e6e9-df5f36193472"
      },
      "source": [
        "ex.plot_results()"
      ],
      "execution_count": null,
      "outputs": [
        {
          "output_type": "display_data",
          "data": {
            "image/png": "[encoded data removed]",
            "text/plain": [
              "<Figure size 432x288 with 1 Axes>"
            ]
          },
          "metadata": {
            "tags": [],
            "needs_background": "light"
          }
        },
        {
          "output_type": "display_data",
          "data": {
            "image/png": "[encoded data removed]",
            "text/plain": [
              "<Figure size 432x288 with 1 Axes>"
            ]
          },
          "metadata": {
            "tags": [],
            "needs_background": "light"
          }
        }
      ]
    }
  ]
}