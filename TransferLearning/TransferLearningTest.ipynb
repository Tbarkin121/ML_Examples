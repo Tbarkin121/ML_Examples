{
 "cells": [
  {
   "cell_type": "code",
   "execution_count": null,
   "metadata": {
    "colab": {
     "base_uri": "https://localhost:8080/",
     "height": 1000
    },
    "colab_type": "code",
    "id": "5JQOuDdppeW4",
    "outputId": "e9aafeaa-ee61-4d00-c0a8-b8a29eb8f44c"
   },
   "outputs": [
    {
     "name": "stdout",
     "output_type": "stream",
     "text": [
      "((50000, 32, 32, 3), (50000, 1))\n",
      "((50000, 32, 32, 3), (50000, 10))\n",
      "Epoch 1/10\n",
      "1563/1563 [==============================] - 79s 46ms/step - loss: 2.9235 - accuracy: 0.1082 - val_loss: 2.1092 - val_accuracy: 0.2588\n",
      "WARNING:tensorflow:Can save best model only with val_acc available, skipping.\n",
      "Epoch 2/10\n",
      "1563/1563 [==============================] - 72s 46ms/step - loss: 2.5864 - accuracy: 0.1606 - val_loss: 1.8701 - val_accuracy: 0.3871\n",
      "WARNING:tensorflow:Can save best model only with val_acc available, skipping.\n",
      "Epoch 3/10\n",
      "1563/1563 [==============================] - 72s 46ms/step - loss: 2.2976 - accuracy: 0.2290 - val_loss: 1.6770 - val_accuracy: 0.4593\n",
      "WARNING:tensorflow:Can save best model only with val_acc available, skipping.\n",
      "Epoch 4/10\n",
      "1563/1563 [==============================] - 74s 47ms/step - loss: 2.0635 - accuracy: 0.2936 - val_loss: 1.5157 - val_accuracy: 0.5222\n",
      "WARNING:tensorflow:Can save best model only with val_acc available, skipping.\n",
      "Epoch 5/10\n",
      "1563/1563 [==============================] - 73s 47ms/step - loss: 1.8756 - accuracy: 0.3550 - val_loss: 1.3970 - val_accuracy: 0.5629\n",
      "WARNING:tensorflow:Can save best model only with val_acc available, skipping.\n",
      "Epoch 6/10\n",
      "1437/1563 [==========================>...] - ETA: 5s - loss: 1.7314 - accuracy: 0.4137"
     ]
    }
   ],
   "source": [
    "#!/usr/bin/env python3\n",
    "\"\"\"\n",
    "Trains a convolutional neural network to classify the CIFAR 10 dataset:\n",
    "\"\"\"\n",
    "# %tensorflow_version 1.x\n",
    "import tensorflow.keras as K\n",
    "import tensorflow as tf\n",
    "\n",
    "\n",
    "def preprocess_data(X, Y):\n",
    "    \"\"\"\n",
    "    a function that trains a convolutional neural network to classify the\n",
    "    CIFAR 10 dataset\n",
    "    :param X: X is a numpy.ndarray of shape (m, 32, 32, 3) containing the\n",
    "    CIFAR 10 data, where m is the number of data points\n",
    "    :param Y: Y is a numpy.ndarray of shape (m,) containing the CIFAR 10\n",
    "    labels for X\n",
    "    :return: X_p, Y_p\n",
    "        X_p is a numpy.ndarray containing the preprocessed X\n",
    "        Y_p is a numpy.ndarray containing the preprocessed Y\n",
    "    \"\"\"\n",
    "    X_p = K.applications.resnet50.preprocess_input(X)\n",
    "    Y_p = K.utils.to_categorical(Y, 10)\n",
    "    return X_p, Y_p\n",
    "\n",
    "\n",
    "if __name__ == \"__main__\":\n",
    "    (x_train, y_train), (x_test, y_test) = K.datasets.cifar10.load_data()\n",
    "    print((x_train.shape, y_train.shape))\n",
    "    x_train, y_train = preprocess_data(x_train, y_train)\n",
    "    x_test, y_test = preprocess_data(x_test, y_test)\n",
    "    print((x_train.shape, y_train.shape))\n",
    "\n",
    "    input_t = K.Input(shape=(32, 32, 3))\n",
    "    res_model = K.applications.ResNet50(include_top=False,\n",
    "                                        weights=\"imagenet\",\n",
    "                                        input_tensor=input_t)\n",
    "    \n",
    "    \n",
    "    for layer in res_model.layers[:143]:\n",
    "        layer.trainable = False\n",
    "\n",
    "#     for i, layer in enumerate(res_model.layers):\n",
    "#         print(i, layer.name, \"-\", layer.trainable)\n",
    "\n",
    "    to_res = (32, 32)\n",
    "    model = K.models.Sequential()\n",
    "    model.add(K.layers.Lambda(lambda image: tf.image.resize(image, to_res))) \n",
    "    model.add(res_model)\n",
    "    model.add(K.layers.Flatten())\n",
    "    model.add(K.layers.BatchNormalization())\n",
    "    model.add(K.layers.Dense(256, activation='relu'))\n",
    "    model.add(K.layers.Dropout(0.5))\n",
    "    model.add(K.layers.BatchNormalization())\n",
    "    model.add(K.layers.Dense(128, activation='relu'))\n",
    "    model.add(K.layers.Dropout(0.5))\n",
    "    model.add(K.layers.BatchNormalization())\n",
    "    model.add(K.layers.Dense(64, activation='relu'))\n",
    "    model.add(K.layers.Dropout(0.5))\n",
    "    model.add(K.layers.BatchNormalization())\n",
    "    model.add(K.layers.Dense(10, activation='softmax'))\n",
    "\n",
    "    \n",
    "\n",
    "    check_point = K.callbacks.ModelCheckpoint(filepath=\"cifar10.h5\",\n",
    "                                              monitor=\"val_acc\",\n",
    "                                              mode=\"max\",\n",
    "                                              save_best_only=True,\n",
    "                                              )\n",
    "\n",
    "    model.compile(loss='categorical_crossentropy',\n",
    "                  optimizer=K.optimizers.RMSprop(lr=2e-5),\n",
    "                  metrics=['accuracy'])\n",
    "    history = model.fit(x_train, y_train, batch_size=32, epochs=10, verbose=1,\n",
    "                        validation_data=(x_test, y_test),\n",
    "                        callbacks=[check_point])\n",
    "#     model.summary()\n",
    "    model.save(\"cifar10.h5\")"
   ]
  },
  {
   "cell_type": "code",
   "execution_count": null,
   "metadata": {
    "colab": {
     "base_uri": "https://localhost:8080/",
     "height": 224
    },
    "colab_type": "code",
    "id": "gNF9LDF6uhRN",
    "outputId": "585667ad-ae2a-4d2e-bde3-ff64d12182e1"
   },
   "outputs": [],
   "source": [
    "# preprocess_data = __import__('0-transfer').preprocess_data\n",
    "\n",
    "# fix issue with saving keras applications\n",
    "K.learning_phase = K.backend.learning_phase\n",
    "\n",
    "_, (X, Y) = K.datasets.cifar10.load_data()\n",
    "X_p, Y_p = preprocess_data(X, Y)\n",
    "model = K.models.load_model('cifar10.h5')\n",
    "model.evaluate(X_p, Y_p, batch_size=128, verbose=1)"
   ]
  },
  {
   "cell_type": "code",
   "execution_count": null,
   "metadata": {
    "colab": {
     "base_uri": "https://localhost:8080/",
     "height": 545
    },
    "colab_type": "code",
    "id": "OINS8vh-u2-I",
    "outputId": "d4320692-2dca-4bd0-f3de-8006508b07f8"
   },
   "outputs": [],
   "source": [
    "import matplotlib.pyplot as plt\n",
    "\n",
    "acc = history.history['accuracy']\n",
    "val_acc = history.history['val_accuracy']\n",
    "loss = history.history['loss']\n",
    "val_loss = history.history['val_loss']\n",
    "\n",
    "epochs = range(len(acc))\n",
    "\n",
    "plt.plot(epochs, acc, 'b', label='Training acc')\n",
    "plt.plot(epochs, val_acc, 'bo', label='Validation acc')\n",
    "plt.title('Training and validation accuracy')\n",
    "plt.legend()\n",
    "\n",
    "plt.figure()\n",
    "\n",
    "plt.plot(epochs, loss, 'r', label='Training loss')\n",
    "plt.plot(epochs, val_loss, 'ro', label='Validation loss')\n",
    "plt.title('Training and validation loss')\n",
    "plt.legend()\n",
    "\n",
    "plt.show()"
   ]
  }
 ],
 "metadata": {
  "accelerator": "GPU",
  "colab": {
   "name": "Copia de 0-transfer.ipynb",
   "provenance": []
  },
  "kernelspec": {
   "display_name": "Python 3",
   "language": "python",
   "name": "python3"
  },
  "language_info": {
   "codemirror_mode": {
    "name": "ipython",
    "version": 3
   },
   "file_extension": ".py",
   "mimetype": "text/x-python",
   "name": "python",
   "nbconvert_exporter": "python",
   "pygments_lexer": "ipython3",
   "version": "3.8.5"
  }
 },
 "nbformat": 4,
 "nbformat_minor": 1
}
